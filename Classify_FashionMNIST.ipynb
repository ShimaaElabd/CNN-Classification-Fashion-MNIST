{
  "nbformat": 4,
  "nbformat_minor": 0,
  "metadata": {
    "colab": {
      "name": "Classify FashionMNIST.ipynb",
      "version": "0.3.2",
      "provenance": [],
      "include_colab_link": true
    },
    "kernelspec": {
      "name": "python3",
      "display_name": "Python 3"
    },
    "accelerator": "GPU"
  },
  "cells": [
    {
      "cell_type": "markdown",
      "metadata": {
        "id": "view-in-github",
        "colab_type": "text"
      },
      "source": [
        "<a href=\"https://colab.research.google.com/github/ShimaaElabd/CNN-Classification-Fashion-MNIST/blob/master/Classify_FashionMNIST.ipynb\" target=\"_parent\"><img src=\"https://colab.research.google.com/assets/colab-badge.svg\" alt=\"Open In Colab\"/></a>"
      ]
    },
    {
      "metadata": {
        "id": "_4JE-Kauf3VQ",
        "colab_type": "text"
      },
      "cell_type": "markdown",
      "source": [
        "# CNN for Classification Fashion-MNIST:\n",
        "---\n",
        "\n",
        "* In this notebook, I define and train an CNN to classify images from the [Fashion-MNIST database](https://github.com/zalandoresearch/fashion-mnist). \n",
        "\n",
        "* This CNN with two convolutional layers and additional fully-connected and dropout layers to avoid overfitting the data and gradient descent with momentum to avoid reaching a local minimum.\n",
        "\n",
        "## Load the [data](http://pytorch.org/docs/master/torchvision/datasets.html)\n",
        "\n",
        "In this cell, data loaded in both **training and test** datasets from the FashionMNIST class."
      ]
    },
    {
      "metadata": {
        "id": "P4RVQtKBdWkZ",
        "colab_type": "code",
        "colab": {
          "base_uri": "https://localhost:8080/",
          "height": 51
        },
        "outputId": "1494ea30-45a2-4a9f-d941-53b62f0d6c2c"
      },
      "cell_type": "code",
      "source": [
        "# import basic libraries\n",
        "import torch\n",
        "import torchvision\n",
        "\n",
        "# data loading and transforming\n",
        "from torchvision.datasets import FashionMNIST\n",
        "from torch.utils.data import DataLoader\n",
        "from torchvision import transforms\n",
        "\n",
        "# The output of torchvision datasets are PILImage images of range [0, 1]. \n",
        "# We transform them to Tensors for input into a CNN\n",
        "\n",
        "## Define a transform to read the data in as a tensor\n",
        "data_transform = transforms.ToTensor()\n",
        "\n",
        "# choose the training and test datasets\n",
        "train_data = FashionMNIST(root='./data', train=True,\n",
        "                                   download=True, transform=data_transform)\n",
        "\n",
        "test_data = FashionMNIST(root='./data', train=False,\n",
        "                                  download=True, transform=data_transform)\n",
        "\n",
        "\n",
        "# Print out some stats about the training and test data\n",
        "print('Train data, number of images: ', len(train_data))\n",
        "print('Test data, number of images: ', len(test_data))"
      ],
      "execution_count": 4,
      "outputs": [
        {
          "output_type": "stream",
          "text": [
            "Train data, number of images:  60000\n",
            "Test data, number of images:  10000\n"
          ],
          "name": "stdout"
        }
      ]
    },
    {
      "metadata": {
        "id": "te33c9BHhe-r",
        "colab_type": "code",
        "colab": {}
      },
      "cell_type": "code",
      "source": [
        "# prepare data loaders, set the batch_size\n",
        "\n",
        "batch_size = 20\n",
        "train_loader = DataLoader(train_data, batch_size=batch_size, shuffle=True)\n",
        "test_loader = DataLoader(test_data, batch_size=batch_size, shuffle=True)\n",
        "\n",
        "# specify the image classes\n",
        "classes = ['T-shirt/top', 'Trouser', 'Pullover', 'Dress', 'Coat', \n",
        "           'Sandal', 'Shirt', 'Sneaker', 'Bag', 'Ankle boot']"
      ],
      "execution_count": 0,
      "outputs": []
    },
    {
      "metadata": {
        "id": "OMFkJjzJhyuh",
        "colab_type": "text"
      },
      "cell_type": "markdown",
      "source": [
        "### Visualize some training data\n",
        "\n",
        "This cell iterates over the training dataset, loading a random batch of image/label data, using `dataiter.next()`. It then plots the batch of images and labels in a `2 x batch_size/2` grid."
      ]
    },
    {
      "metadata": {
        "id": "DQvkubdPhs6R",
        "colab_type": "code",
        "colab": {
          "base_uri": "https://localhost:8080/",
          "height": 283
        },
        "outputId": "a38b6a06-c205-4f6d-d579-5468fd5557ea"
      },
      "cell_type": "code",
      "source": [
        "import numpy as np\n",
        "import matplotlib.pyplot as plt\n",
        "\n",
        "%matplotlib inline\n",
        "    \n",
        "# obtain one batch of training images\n",
        "dataiter = iter(train_loader)\n",
        "images, labels = dataiter.next()\n",
        "images = images.numpy()\n",
        "\n",
        "# plot the images in the batch, along with the corresponding labels\n",
        "fig = plt.figure(figsize=(25, 4))\n",
        "for idx in np.arange(batch_size):\n",
        "    ax = fig.add_subplot(2, batch_size/2, idx+1, xticks=[], yticks=[])\n",
        "    ax.imshow(np.squeeze(images[idx]), cmap='gray')\n",
        "    ax.set_title(classes[labels[idx]])"
      ],
      "execution_count": 6,
      "outputs": [
        {
          "output_type": "display_data",
          "data": {
            "image/png": "[encoded data removed]",
            "text/plain": [
              "<Figure size 1800x288 with 20 Axes>"
            ]
          },
          "metadata": {
            "tags": []
          }
        }
      ]
    },
    {
      "metadata": {
        "id": "hUQqee5Ti4iY",
        "colab_type": "text"
      },
      "cell_type": "markdown",
      "source": [
        "### Define the network architecture\n",
        "\n",
        "The various layers that make up any neural network are documented, [here](http://pytorch.org/docs/master/nn.html). For a convolutional neural network, will use a simple series of layers:\n",
        "* Convolutional layers\n",
        "* Maxpooling layers\n",
        "* Fully-connected (linear) layers\n",
        "\n",
        "Adding [dropout layers](http://pytorch.org/docs/stable/nn.html#dropout) to avoid overfitting this data.\n",
        "\n",
        "---\n",
        "\n",
        "To define a neural network in PyTorch, we define the layers of a model in the function `__init__` and define the feedforward behavior of a network that employs those initialized layers in the function `forward`, which takes in an input image tensor, `x`. The structure of this Net class is shown below.\n",
        "\n",
        "During training, PyTorch will be able to perform backpropagation by keeping track of the network's feedforward behavior and using autograd to calculate the update to the weights in the network.\n",
        "\n",
        "#### Define the Layers in ` __init__`\n",
        "a conv/pool layer may be defined like this (in `__init__`):\n",
        "```\n",
        "# 1 input image channel (for grayscale images), 32 output channels/feature maps, 3x3 square convolution kernel\n",
        "self.conv1 = nn.Conv2d(1, 32, 3)\n",
        "\n",
        "# maxpool that uses a square window of kernel_size=2, stride=2\n",
        "self.pool = nn.MaxPool2d(2, 2)      \n",
        "```\n",
        "\n",
        "#### Refer to Layers in `forward`\n",
        "Then referred to in the `forward` function like this, in which the conv1 layer has a ReLu activation applied to it before maxpooling is applied:\n",
        "```\n",
        "x = self.pool(F.relu(self.conv1(x)))\n",
        "```\n",
        "\n",
        "Place any layers with trainable weights, such as convolutional layers, in the `__init__` function and refer to them in the `forward` function; any layers or functions that always behave in the same way, such as a pre-defined activation function, may appear *only* in the `forward` function. In practice, often see conv/pool layers defined in `__init__` and activations defined in `forward`.\n",
        "\n",
        "#### Convolutional layer\n",
        "It takes in a 1 channel (grayscale) image and outputs 10 feature maps as output, after convolving the image with 3x3 filters.\n",
        "\n",
        "#### Flattening\n",
        "\n",
        "To move from the output of a convolutional/pooling layer to a linear layer,  first flatten the extracted features into a vector. In Keras, this done by `Flatten()`, and in PyTorch, flatten an input `x` with `x = x.view(x.size(0), -1)`.\n",
        "\n",
        "### Define the rest of the layers\n",
        "\n",
        "* Use at least two convolutional layers\n",
        "* Output must be a linear layer with 10 outputs (for the 10 classes of clothing)\n",
        "* Use a dropout layer to avoid overfitting\n",
        "\n",
        "### A note on output size\n",
        "\n",
        "For any convolutional layer, the output feature maps will have the specified depth (a depth of 10 for 10 filters in a convolutional layer) and the dimensions of the produced feature maps (width/height) can be computed as the _input image_ width/height, W, minus the filter size, F, divided by the stride, S, all + 1. The equation looks like: `output_dim = (W-F)/S + 1`, for an assumed padding size of 0. Derivation of this formula, [here](http://cs231n.github.io/convolutional-networks/#conv).\n",
        "\n",
        "For a pool layer with a size 2 and stride 2, the output dimension will be reduced by a factor of 2. "
      ]
    },
    {
      "metadata": {
        "id": "vdxMQLZQipFx",
        "colab_type": "code",
        "colab": {
          "base_uri": "https://localhost:8080/",
          "height": 153
        },
        "outputId": "776848f4-f7cd-4e69-b48c-ea0bb2172b52"
      },
      "cell_type": "code",
      "source": [
        "import torch.nn as nn\n",
        "import torch.nn.functional as F\n",
        "\n",
        "class Net(nn.Module):\n",
        "\n",
        "    def __init__(self):\n",
        "        super(Net, self).__init__()\n",
        "        \n",
        "        # 1 input image channel (grayscale), 10 output channels/feature maps\n",
        "        # 3x3 square convolution kernel\n",
        "        ## output size = (W-F)/S +1 = (28-3)/1 +1 = 26\n",
        "        # the output Tensor for one image, will have the dimensions: (10, 26, 26)\n",
        "        # after one pool layer, this becomes (10, 13, 13)\n",
        "        self.conv1 = nn.Conv2d(1, 10, 3)\n",
        "        \n",
        "        # maxpool layer\n",
        "        # pool with kernel_size=2, stride=2\n",
        "        self.pool = nn.MaxPool2d(2, 2)\n",
        "        \n",
        "        # second conv layer: 10 inputs, 20 outputs, 3x3 conv\n",
        "        ## output size = (W-F)/S +1 = (13-3)/1 +1 = 11\n",
        "        # the output tensor will have dimensions: (20, 11, 11)\n",
        "        # after another pool layer this becomes (20, 5, 5); 5.5 is rounded down\n",
        "        self.conv2 = nn.Conv2d(10, 20, 3)\n",
        "        \n",
        "        # 20 outputs * the 5*5 filtered/pooled map size\n",
        "        self.fc1 = nn.Linear(20*5*5, 50)\n",
        "        \n",
        "        # dropout with p=0.4\n",
        "        self.fc1_drop = nn.Dropout(p=0.4)\n",
        "        \n",
        "        # finally, create 10 output channels (for the 10 classes)\n",
        "        self.fc2 = nn.Linear(50, 10)\n",
        "\n",
        "    # define the feedforward behavior\n",
        "    def forward(self, x):\n",
        "        # two conv/relu + pool layers\n",
        "        x = self.pool(F.relu(self.conv1(x)))\n",
        "        x = self.pool(F.relu(self.conv2(x)))\n",
        "\n",
        "        # prep for linear layer\n",
        "        # this line of code is the equivalent of Flatten in Keras\n",
        "        x = x.view(x.size(0), -1)\n",
        "        \n",
        "        # two linear layers with dropout in between\n",
        "        x = F.relu(self.fc1(x))\n",
        "        x = self.fc1_drop(x)\n",
        "        x = self.fc2(x)\n",
        "        \n",
        "        # final output\n",
        "        return x\n",
        "\n",
        "# instantiate and print the Net\n",
        "net = Net()\n",
        "print(net)"
      ],
      "execution_count": 7,
      "outputs": [
        {
          "output_type": "stream",
          "text": [
            "Net(\n",
            "  (conv1): Conv2d(1, 10, kernel_size=(3, 3), stride=(1, 1))\n",
            "  (pool): MaxPool2d(kernel_size=2, stride=2, padding=0, dilation=1, ceil_mode=False)\n",
            "  (conv2): Conv2d(10, 20, kernel_size=(3, 3), stride=(1, 1))\n",
            "  (fc1): Linear(in_features=500, out_features=50, bias=True)\n",
            "  (fc1_drop): Dropout(p=0.4)\n",
            "  (fc2): Linear(in_features=50, out_features=10, bias=True)\n",
            ")\n"
          ],
          "name": "stdout"
        }
      ]
    },
    {
      "metadata": {
        "id": "F3EiT402nWwK",
        "colab_type": "text"
      },
      "cell_type": "markdown",
      "source": [
        "### Specify the loss function and optimizer\n",
        "\n",
        "[loss functions](http://pytorch.org/docs/master/nn.html#loss-functions) and [optimizers](http://pytorch.org/docs/master/optim.html) in the online documentation.\n",
        "\n",
        "For a classification problem like this, one typically uses cross entropy loss, which can be defined in code like: `criterion = nn.CrossEntropyLoss()`. PyTorch also includes some standard stochastic optimizers like stochastic gradient descent and Adam.\n"
      ]
    },
    {
      "metadata": {
        "id": "FqEAq-nXnklN",
        "colab_type": "code",
        "colab": {}
      },
      "cell_type": "code",
      "source": [
        "import torch.optim as optim\n",
        "\n",
        "## specify loss function\n",
        "# using cross entropy whcih combines softmax and NLL loss\n",
        "criterion = nn.CrossEntropyLoss()\n",
        "\n",
        "## specify optimizer \n",
        "# stochastic gradient descent with a small learning rate AND some momentum\n",
        "optimizer = optim.SGD(net.parameters(), lr=0.001, momentum=0.9)"
      ],
      "execution_count": 0,
      "outputs": []
    },
    {
      "metadata": {
        "id": "h059-Gm9n30v",
        "colab_type": "text"
      },
      "cell_type": "markdown",
      "source": [
        "### A note on accuracy\n",
        "\n",
        "To look at the accuracy of your network **before and after** training to really identify that network has learned something. In the next cell, the accuracy of an untrained network is ( expect it to be around 10% which is the same accuracy as just guessing for all 11 classes)."
      ]
    },
    {
      "metadata": {
        "id": "rLzirwXkoUGB",
        "colab_type": "code",
        "colab": {
          "base_uri": "https://localhost:8080/",
          "height": 34
        },
        "outputId": "fdb0e41e-92d7-4dcd-a029-c3459c6b7127"
      },
      "cell_type": "code",
      "source": [
        "# Calculate accuracy before training\n",
        "correct = 0\n",
        "total = 0\n",
        "\n",
        "# Iterate through test dataset\n",
        "for images, labels in test_loader:\n",
        "\n",
        "    # forward pass to get outputs\n",
        "    # the outputs are a series of class scores\n",
        "    outputs = net(images)\n",
        "\n",
        "    # get the predicted class from the maximum value in the output-list of class scores\n",
        "    _, predicted = torch.max(outputs.data, 1)\n",
        "\n",
        "    # count up total number of correct labels\n",
        "    # for which the predicted and true labels are equal\n",
        "    total += labels.size(0)\n",
        "    correct += (predicted == labels).sum()\n",
        "\n",
        "# calculate the accuracy\n",
        "# to convert `correct` from a Tensor into a scalar, use .item()\n",
        "accuracy = 100.0 * correct.item() / total\n",
        "\n",
        "# print it out!\n",
        "print('Accuracy before training: ', accuracy)"
      ],
      "execution_count": 9,
      "outputs": [
        {
          "output_type": "stream",
          "text": [
            "Accuracy before training:  10.4\n"
          ],
          "name": "stdout"
        }
      ]
    },
    {
      "metadata": {
        "id": "biuf8Z2Vplt5",
        "colab_type": "text"
      },
      "cell_type": "markdown",
      "source": [
        "### Train the Network\n",
        "\n",
        "Below, defined a `train` function that takes in a number of epochs to train for. \n",
        "* The number of epochs is how many times a network will cycle through the entire training dataset. \n",
        "* Inside the epoch loop, we loop over the training dataset in batches; recording the loss every 1000 batches.\n",
        "\n",
        "Here are the steps that this training function performs as it iterates over the training dataset:\n",
        "\n",
        "1. Zero's the gradients to prepare for a forward pass\n",
        "2. Passes the input through the network (forward pass)\n",
        "3. Computes the loss (how far is the predicted classes are from the correct labels)\n",
        "4. Propagates gradients back into the network’s parameters (backward pass)\n",
        "5. Updates the weights (parameter update)\n",
        "6. Prints out the calculated loss"
      ]
    },
    {
      "metadata": {
        "id": "wp6H1aiSplBr",
        "colab_type": "code",
        "colab": {}
      },
      "cell_type": "code",
      "source": [
        "def train(n_epochs):\n",
        "    \n",
        "    loss_over_time = [] # to track the loss as the network trains\n",
        "    \n",
        "    for epoch in range(n_epochs):  # loop over the dataset multiple times\n",
        "        \n",
        "        running_loss = 0.0\n",
        "        \n",
        "        for batch_i, data in enumerate(train_loader):\n",
        "            # get the input images and their corresponding labels\n",
        "            inputs, labels = data\n",
        "\n",
        "            # zero the parameter (weight) gradients\n",
        "            optimizer.zero_grad()\n",
        "\n",
        "            # forward pass to get outputs\n",
        "            outputs = net(inputs)\n",
        "\n",
        "            # calculate the loss\n",
        "            loss = criterion(outputs, labels)\n",
        "\n",
        "            # backward pass to calculate the parameter gradients\n",
        "            loss.backward()\n",
        "\n",
        "            # update the parameters\n",
        "            optimizer.step()\n",
        "\n",
        "            # print loss statistics\n",
        "            # to convert loss into a scalar and add it to running_loss, we use .item()\n",
        "            running_loss += loss.item()\n",
        "            \n",
        "            if batch_i % 1000 == 999:    # print every 1000 batches\n",
        "                avg_loss = running_loss/1000\n",
        "                # record and print the avg loss over the 1000 batches\n",
        "                loss_over_time.append(avg_loss)\n",
        "                print('Epoch: {}, Batch: {}, Avg. Loss: {}'.format(epoch + 1, batch_i+1, avg_loss))\n",
        "                running_loss = 0.0\n",
        "\n",
        "    print('Finished Training')\n",
        "    return loss_over_time\n"
      ],
      "execution_count": 0,
      "outputs": []
    },
    {
      "metadata": {
        "id": "vCCa5HDmrApu",
        "colab_type": "code",
        "colab": {
          "base_uri": "https://localhost:8080/",
          "height": 136
        },
        "outputId": "c32a692f-22a9-4ca7-8142-63189011739e"
      },
      "cell_type": "code",
      "source": [
        "# define the number of epochs to train for\n",
        "n_epochs = 2 # start small to see if model works, initially\n",
        "\n",
        "# call train\n",
        "training_loss = train(n_epochs)"
      ],
      "execution_count": 11,
      "outputs": [
        {
          "output_type": "stream",
          "text": [
            "Epoch: 1, Batch: 1000, Avg. Loss: 1.7196515780687331\n",
            "Epoch: 1, Batch: 2000, Avg. Loss: 0.9287875237762928\n",
            "Epoch: 1, Batch: 3000, Avg. Loss: 0.8180442868918181\n",
            "Epoch: 2, Batch: 1000, Avg. Loss: 0.7558811821937561\n",
            "Epoch: 2, Batch: 2000, Avg. Loss: 0.6905601742565632\n",
            "Epoch: 2, Batch: 3000, Avg. Loss: 0.6609727460443974\n",
            "Finished Training\n"
          ],
          "name": "stdout"
        }
      ]
    },
    {
      "metadata": {
        "id": "24_r9AF9rzdM",
        "colab_type": "text"
      },
      "cell_type": "markdown",
      "source": [
        "## Visualizing the loss\n",
        "\n",
        "A good indication of how much the network is learning as it trains is the loss over time. so printed and recorded the average loss for each 1000 batches and for each epoch.And plot it and see how the loss decreases over time. \n"
      ]
    },
    {
      "metadata": {
        "id": "rfc22-qUrQR-",
        "colab_type": "code",
        "colab": {
          "base_uri": "https://localhost:8080/",
          "height": 283
        },
        "outputId": "86a733b3-ff4b-44f0-8976-df0e862336d8"
      },
      "cell_type": "code",
      "source": [
        "# visualize the loss as the network trained\n",
        "plt.plot(training_loss)\n",
        "plt.xlabel('1000\\'s of batches')\n",
        "plt.ylabel('loss')\n",
        "plt.ylim(0, 2.5) # consistent scale\n",
        "plt.show()"
      ],
      "execution_count": 12,
      "outputs": [
        {
          "output_type": "display_data",
          "data": {
            "image/png": "[encoded data removed]",
            "text/plain": [
              "<Figure size 432x288 with 1 Axes>"
            ]
          },
          "metadata": {
            "tags": []
          }
        }
      ]
    },
    {
      "metadata": {
        "id": "ZhRC7ai5s9NO",
        "colab_type": "text"
      },
      "cell_type": "markdown",
      "source": [
        "### Test the Trained Network\n",
        "\n",
        "\n",
        "Test the trained model on a previously unseen dataset to see if it generalizes well and can accurately classify this new dataset. For FashionMNIST, which contains many pre-processed training images, a good model should reach **greater than 85% accuracy** on this test dataset. \n",
        "\n",
        "If not reaching this value, will  try training for a larger number of epochs, tweaking  hyperparameters, or adding/subtracting layers from the CNN."
      ]
    },
    {
      "metadata": {
        "id": "0CJWdEsmssvN",
        "colab_type": "code",
        "colab": {
          "base_uri": "https://localhost:8080/",
          "height": 255
        },
        "outputId": "a12c9ccd-6026-4b25-dbea-53df001a3ef2"
      },
      "cell_type": "code",
      "source": [
        "# initialize tensor and lists to monitor test loss and accuracy\n",
        "test_loss = torch.zeros(1)\n",
        "class_correct = list(0. for i in range(10))\n",
        "class_total = list(0. for i in range(10))\n",
        "\n",
        "# set the module to evaluation mode\n",
        "net.eval()\n",
        "\n",
        "for batch_i, data in enumerate(test_loader):\n",
        "    \n",
        "    # get the input images and their corresponding labels\n",
        "    inputs, labels = data\n",
        "    \n",
        "    # forward pass to get outputs\n",
        "    outputs = net(inputs)\n",
        "\n",
        "    # calculate the loss\n",
        "    loss = criterion(outputs, labels)\n",
        "            \n",
        "    # update average test loss \n",
        "    test_loss = test_loss + ((torch.ones(1) / (batch_i + 1)) * (loss.data - test_loss))\n",
        "    \n",
        "    # get the predicted class from the maximum value in the output-list of class scores\n",
        "    _, predicted = torch.max(outputs.data, 1)\n",
        "    \n",
        "    # compare predictions to true label\n",
        "    # this creates a `correct` Tensor that holds the number of correctly classified images in a batch\n",
        "    correct = np.squeeze(predicted.eq(labels.data.view_as(predicted)))\n",
        "    \n",
        "    # calculate test accuracy for *each* object class\n",
        "    # we get the scalar value of correct items for a class, by calling `correct[i].item()`\n",
        "    for i in range(batch_size):\n",
        "        label = labels.data[i]\n",
        "        class_correct[label] += correct[i].item()\n",
        "        class_total[label] += 1\n",
        "\n",
        "print('Test Loss: {:.6f}\\n'.format(test_loss.numpy()[0]))\n",
        "\n",
        "for i in range(10):\n",
        "    if class_total[i] > 0:\n",
        "        print('Test Accuracy of %5s: %2d%% (%2d/%2d)' % (\n",
        "            classes[i], 100 * class_correct[i] / class_total[i],\n",
        "            np.sum(class_correct[i]), np.sum(class_total[i])))\n",
        "    else:\n",
        "        print('Test Accuracy of %5s: N/A (no training examples)' % (classes[i]))\n",
        "\n",
        "        \n",
        "print('\\nTest Accuracy (Overall): %2d%% (%2d/%2d)' % (\n",
        "    100. * np.sum(class_correct) / np.sum(class_total),\n",
        "    np.sum(class_correct), np.sum(class_total)))"
      ],
      "execution_count": 13,
      "outputs": [
        {
          "output_type": "stream",
          "text": [
            "Test Loss: 0.577428\n",
            "\n",
            "Test Accuracy of T-shirt/top: 75% (757/1000)\n",
            "Test Accuracy of Trouser: 95% (953/1000)\n",
            "Test Accuracy of Pullover: 66% (663/1000)\n",
            "Test Accuracy of Dress: 76% (768/1000)\n",
            "Test Accuracy of  Coat: 70% (707/1000)\n",
            "Test Accuracy of Sandal: 91% (913/1000)\n",
            "Test Accuracy of Shirt: 31% (317/1000)\n",
            "Test Accuracy of Sneaker: 92% (926/1000)\n",
            "Test Accuracy of   Bag: 92% (928/1000)\n",
            "Test Accuracy of Ankle boot: 92% (923/1000)\n",
            "\n",
            "Test Accuracy (Overall): 78% (7855/10000)\n"
          ],
          "name": "stdout"
        }
      ]
    },
    {
      "metadata": {
        "id": "m9PHSVERuTiB",
        "colab_type": "text"
      },
      "cell_type": "markdown",
      "source": [
        "### Visualize sample test results\n",
        "\n",
        "Format: predicted class (true class)"
      ]
    },
    {
      "metadata": {
        "id": "BOkgvDNXuQxR",
        "colab_type": "code",
        "colab": {
          "base_uri": "https://localhost:8080/",
          "height": 283
        },
        "outputId": "41752f94-9ab1-488c-ab6b-0f9e8c36db66"
      },
      "cell_type": "code",
      "source": [
        "# obtain one batch of test images\n",
        "dataiter = iter(test_loader)\n",
        "images, labels = dataiter.next()\n",
        "# get predictions\n",
        "preds = np.squeeze(net(images).data.max(1, keepdim=True)[1].numpy())\n",
        "images = images.numpy()\n",
        "\n",
        "# plot the images in the batch, along with predicted and true labels\n",
        "fig = plt.figure(figsize=(25, 4))\n",
        "for idx in np.arange(batch_size):\n",
        "    ax = fig.add_subplot(2, batch_size/2, idx+1, xticks=[], yticks=[])\n",
        "    ax.imshow(np.squeeze(images[idx]), cmap='gray')\n",
        "    ax.set_title(\"{} ({})\".format(classes[preds[idx]], classes[labels[idx]]),\n",
        "                 color=(\"green\" if preds[idx]==labels[idx] else \"red\"))"
      ],
      "execution_count": 14,
      "outputs": [
        {
          "output_type": "display_data",
          "data": {
            "image/png": "[encoded data removed]",
            "text/plain": [
              "<Figure size 1800x288 with 20 Axes>"
            ]
          },
          "metadata": {
            "tags": []
          }
        }
      ]
    },
    {
      "metadata": {
        "id": "U9q5nuNmvh8C",
        "colab_type": "code",
        "colab": {
          "base_uri": "https://localhost:8080/",
          "height": 51
        },
        "outputId": "e26b2202-d05a-448c-9750-503f6a2346ca"
      },
      "cell_type": "code",
      "source": [
        "!pwd\n",
        "!ls"
      ],
      "execution_count": 23,
      "outputs": [
        {
          "output_type": "stream",
          "text": [
            "/content\n",
            "data  sample_data\n"
          ],
          "name": "stdout"
        }
      ]
    },
    {
      "metadata": {
        "id": "7kBnVaqbuZ57",
        "colab_type": "code",
        "colab": {}
      },
      "cell_type": "code",
      "source": [
        "# Saving the model\n",
        "# after training, save the model parameters \n",
        "torch.save(net.state_dict(), 'fashion_net_ex.pt')"
      ],
      "execution_count": 0,
      "outputs": []
    }
  ]
}